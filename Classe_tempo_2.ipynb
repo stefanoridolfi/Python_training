{
  "nbformat": 4,
  "nbformat_minor": 0,
  "metadata": {
    "colab": {
      "name": "Untitled1.ipynb",
      "provenance": [],
      "authorship_tag": "ABX9TyOEVP+JI398FmadvhHtAmRY",
      "include_colab_link": true
    },
    "kernelspec": {
      "name": "python3",
      "display_name": "Python 3"
    }
  },
  "cells": [
    {
      "cell_type": "markdown",
      "metadata": {
        "id": "view-in-github",
        "colab_type": "text"
      },
      "source": [
        "<a href=\"https://colab.research.google.com/github/stefanoridolfi/Python_training/blob/master/Classe_tempo_2.ipynb\" target=\"_parent\"><img src=\"https://colab.research.google.com/assets/colab-badge.svg\" alt=\"Open In Colab\"/></a>"
      ]
    },
    {
      "cell_type": "markdown",
      "metadata": {
        "id": "yJRpadlMzJpS",
        "colab_type": "text"
      },
      "source": [
        "\n",
        "14.3 Un altro esempio\n",
        "Convertiamo Incremento (dalla sezione 13.3) da funzione a metodo. Per risparmiare spazio eviteremo di riscrivere il metodo StampaTempo che abbiamo già definito ma tu lo devi tenere nella tua versione del programma:\n",
        "\n",
        "\n",
        "```\n",
        "# This is formatted as code\n",
        "class Tempo:\n",
        "  def StampaTempo(Orario):\n",
        "    print str(Orario.Ore) + \":\" +   \\\n",
        "          str(Orario.Minuti) + \":\" +  \\\n",
        "          str(Orario.Secondi)\n",
        "\n",
        "  def Incremento(self, Secondi):\n",
        "    self.Secondi = Secondi + self.Secondi\n",
        "\n",
        "    while self.Secondi >= 60:\n",
        "      self.Secondi = self.Secondi - 60\n",
        "      self.Minuti = self.Minuti + 1\n",
        "\n",
        "    while self.Minuti >= 60:\n",
        "      self.Minuti = self.Minuti - 60\n",
        "      self.Ore = self.Ore + 1\n",
        "\n",
        "```\n",
        "\n",
        "\n",
        "\n",
        "\n",
        "\n",
        "La trasformazione, come abbiamo già detto, è puramente meccanica: abbiamo spostato la definizione di una funzione all'interno di una definizione di classe e cambiato il nome del primo parametro.\n",
        "\n",
        "Ora possiamo invocare Incremento come metodo.\n",
        "\n",
        "\n",
        "```\n",
        "# This is formatted as code\n",
        "OraAttuale.Incremento(500)\n",
        "```\n",
        "\n",
        "\n",
        "\n",
        "\n",
        "Ancora una volta l'oggetto su cui il metodo è invocato viene automaticamente assegnato al primo parametro, self. Il secondo parametro, Secondi, vale 500."
      ]
    },
    {
      "cell_type": "code",
      "metadata": {
        "id": "aWt9teRb1Fd6",
        "colab_type": "code",
        "colab": {
          "base_uri": "https://localhost:8080/",
          "height": 51
        },
        "outputId": "9c2fb4d4-dcba-485d-b3bf-7223e10ec5db"
      },
      "source": [
        "class Tempo:\n",
        "  def StampaTempo(Orario):\n",
        "    print (str(Orario.Ore) + \":\" +   \\\n",
        "          str(Orario.Minuti) + \":\" +  \\\n",
        "          str(Orario.Secondi))\n",
        " \n",
        "  def Incremento(self, Secondi):\n",
        "    self.Secondi = Secondi + self.Secondi\n",
        " \n",
        "    while self.Secondi >= 60:\n",
        "      self.Secondi = self.Secondi - 60\n",
        "      self.Minuti = self.Minuti + 1\n",
        " \n",
        "    while self.Minuti >= 60:\n",
        "      self.Minuti = self.Minuti - 60\n",
        "      self.Ore = self.Ore + 1\n",
        "OraAttuale = Tempo()\n",
        "OraAttuale.Ore = 9\n",
        "OraAttuale.Minuti = 14\n",
        "OraAttuale.Secondi = 30\n",
        "OraAttuale.StampaTempo()\n",
        "OraAttuale.Incremento(4000)\n",
        "OraAttuale.StampaTempo()\n"
      ],
      "execution_count": 30,
      "outputs": [
        {
          "output_type": "stream",
          "text": [
            "9:14:30\n",
            "10:21:10\n"
          ],
          "name": "stdout"
        }
      ]
    },
    {
      "cell_type": "markdown",
      "metadata": {
        "id": "C3NbFO-F37MO",
        "colab_type": "text"
      },
      "source": [
        "14.6 Il metodo di inizializzazione\n",
        "Il metodo di inizializzazione è un metodo speciale invocato quando si crea un oggetto. Il nome di questo metodo è __init__ (due caratteri di sottolineatura, seguiti da init e da altri due caratteri di sottolineatura). Un metodo di inizializzazione per la classe Tempo potrebbe essere:\n",
        "\n",
        "\n",
        "\n",
        "```\n",
        "# This is formatted as code\n",
        "class Tempo:\n",
        "  def __init__(self, Ore=0, Minuti=0, Secondi=0):\n",
        "    self.Ore = Ore\n",
        "    self.Minuti = Minuti\n",
        "    self.Secondi = Secondi\n",
        "```\n",
        "\n",
        "\n",
        "Non c'è conflitto tra l'attributo self.Ore e il parametro Ore. La notazione punto specifica a quale variabile ci stiamo riferendo.\n",
        "\n",
        "Quando invochiamo il costruttore Tempo gli argomenti che passiamo sono girati a __init__:\n",
        "\n",
        "```\n",
        "# This is formatted as code\n",
        "\n",
        "OraAttuale = Tempo(9, 14, 30)\n",
        "OraAttuale.StampaTempo()\n",
        "9:14:30\n",
        "\n",
        "```\n",
        "\n",
        "\n",
        "Dato che i parametri sono opzionali possiamo anche ometterli:\n",
        "\n",
        "\n",
        "```\n",
        "# This is formatted as code\n",
        "OraAttuale = Tempo()\n",
        "OraAttuale.StampaTempo()\n",
        "0:0:0\n",
        "\n",
        "Possiamo anche fornire solo il primo parametro:\n",
        "\n",
        "\n",
        "# This is formatted as code\n",
        "OraAttuale = Tempo(9)\n",
        "OraAttuale.StampaTempo()\n",
        "9:0:0\n",
        "\n",
        "o i primi due parametri:\n",
        "\n",
        "OraAttuale = Tempo(9, 14)\n",
        "OraAttuale.StampaTempo()\n",
        " 9:14:0\n",
        "```\n",
        "\n",
        "\n",
        " "
      ]
    },
    {
      "cell_type": "code",
      "metadata": {
        "id": "kfLT5bUp41h0",
        "colab_type": "code",
        "colab": {
          "base_uri": "https://localhost:8080/",
          "height": 51
        },
        "outputId": "2e464416-f20d-4830-9da1-36c0d6594cdb"
      },
      "source": [
        "class Tempo:\n",
        "  def __init__(self, Ore=0, Minuti=0, Secondi=0):\n",
        "    self.Ore = Ore\n",
        "    self.Minuti = Minuti\n",
        "    self.Secondi = Secondi\n",
        "\n",
        "  def StampaTempo(Orario):\n",
        "    print (str(Orario.Ore) + \":\" +   \\\n",
        "          str(Orario.Minuti) + \":\" +  \\\n",
        "          str(Orario.Secondi))\n",
        "OraAttuale = Tempo(9, 14, 30)\n",
        "OraAttuale.StampaTempo()\n",
        "OraAttuale.StampaTempo()\n"
      ],
      "execution_count": 28,
      "outputs": [
        {
          "output_type": "stream",
          "text": [
            "9:14:30\n",
            "9:14:30\n"
          ],
          "name": "stdout"
        }
      ]
    }
  ]
}