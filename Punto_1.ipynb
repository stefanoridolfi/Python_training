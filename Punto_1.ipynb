{
  "nbformat": 4,
  "nbformat_minor": 0,
  "metadata": {
    "colab": {
      "name": "Untitled2.ipynb",
      "provenance": [],
      "authorship_tag": "ABX9TyMMU7MCqr1C3rZTuhyDqsNv",
      "include_colab_link": true
    },
    "kernelspec": {
      "name": "python3",
      "display_name": "Python 3"
    }
  },
  "cells": [
    {
      "cell_type": "markdown",
      "metadata": {
        "id": "view-in-github",
        "colab_type": "text"
      },
      "source": [
        "<a href=\"https://colab.research.google.com/github/stefanoridolfi/Python_training/blob/master/Punto_1.ipynb\" target=\"_parent\"><img src=\"https://colab.research.google.com/assets/colab-badge.svg\" alt=\"Open In Colab\"/></a>"
      ]
    },
    {
      "cell_type": "code",
      "metadata": {
        "id": "IRxZZE9BBBGu",
        "colab_type": "code",
        "colab": {
          "base_uri": "https://localhost:8080/",
          "height": 34
        },
        "outputId": "6bc42494-97b1-4488-89a5-8a33eb026ed9"
      },
      "source": [
        "class Punto:\n",
        "  def __init__(self, x=0, y=0):\n",
        "    self.x = x\n",
        "    self.y = y\n",
        "\n",
        " # def __str__(self):\n",
        " #   s=str(self.x) +\",  \" +str(self.y)\n",
        " #   return s\n",
        "\n",
        "  def stampa(self):\n",
        "    print(str(self.x),  \",\" +str(self.y))\n",
        "\n",
        "\n",
        "P=Punto(2,3)\n",
        "#print(str(P))\n",
        "P.stampa()"
      ],
      "execution_count": 34,
      "outputs": [
        {
          "output_type": "stream",
          "text": [
            "2 ,3\n"
          ],
          "name": "stdout"
        }
      ]
    }
  ]
}