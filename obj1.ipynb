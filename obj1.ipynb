{
  "nbformat": 4,
  "nbformat_minor": 0,
  "metadata": {
    "colab": {
      "name": "Untitled27.ipynb",
      "provenance": [],
      "authorship_tag": "ABX9TyPAoGUsaMAG0Xw5lYE/Mynm",
      "include_colab_link": true
    },
    "kernelspec": {
      "name": "python3",
      "display_name": "Python 3"
    }
  },
  "cells": [
    {
      "cell_type": "markdown",
      "metadata": {
        "id": "view-in-github",
        "colab_type": "text"
      },
      "source": [
        "<a href=\"https://colab.research.google.com/github/stefanoridolfi/Python_training/blob/master/obj1.ipynb\" target=\"_parent\"><img src=\"https://colab.research.google.com/assets/colab-badge.svg\" alt=\"Open In Colab\"/></a>"
      ]
    },
    {
      "cell_type": "code",
      "metadata": {
        "id": "BkCo-a4IS2nU",
        "colab_type": "code",
        "outputId": "0df2d230-6910-4b4e-a2eb-187d7ef24bb2",
        "colab": {
          "base_uri": "https://localhost:8080/",
          "height": 71
        }
      },
      "source": [
        "\n",
        "class Carta:\n",
        "  def __init__(self, s, v):\n",
        "    self.seme = s\n",
        "    self.valore = v\n",
        "    \n",
        "\n",
        "class Mazzo:\n",
        "  def __init__(self):\n",
        "    self.carte=[]\n",
        "    \n",
        "    for seme in (\"quadri\",\"cuori\",\"picche\",\"fiori\"):\n",
        "      for valore in range (1,14):\n",
        "        #self.carta=(seme,valore)\n",
        "        self.carta=(Carta(seme,valore))\n",
        "        self.carte.append(self.carta)\n",
        "        \n",
        "  def  stampa(self):\n",
        "    return \"carte=\",self.carte\n",
        "    #return print(\"carte=\",self.carte)\n",
        "    #print(\"carte=\",self.carte)  \n",
        "mazzo1=Mazzo()\n",
        "print(mazzo1.carte)\n",
        "print(\"carte\",mazzo1.stampa()) # in questo modo stampo la lista self.carte\n"
      ],
      "execution_count": 54,
      "outputs": [
        {
          "output_type": "stream",
          "text": [
            "[<__main__.Carta object at 0x7f23d655fcc0>, <__main__.Carta object at 0x7f23d655fd30>, <__main__.Carta object at 0x7f23d655fda0>, <__main__.Carta object at 0x7f23d655fdd8>, <__main__.Carta object at 0x7f23d655fe10>, <__main__.Carta object at 0x7f23d655fe48>, <__main__.Carta object at 0x7f23d655fe80>, <__main__.Carta object at 0x7f23d655feb8>, <__main__.Carta object at 0x7f23d655fef0>, <__main__.Carta object at 0x7f23d655ff28>, <__main__.Carta object at 0x7f23d655ff60>, <__main__.Carta object at 0x7f23d655ff98>, <__main__.Carta object at 0x7f23d655ffd0>, <__main__.Carta object at 0x7f23d64f5048>, <__main__.Carta object at 0x7f23d64f5080>, <__main__.Carta object at 0x7f23d64f50b8>, <__main__.Carta object at 0x7f23d64f50f0>, <__main__.Carta object at 0x7f23d64f5128>, <__main__.Carta object at 0x7f23d64f5160>, <__main__.Carta object at 0x7f23d64f5198>, <__main__.Carta object at 0x7f23d64f51d0>, <__main__.Carta object at 0x7f23d64f5208>, <__main__.Carta object at 0x7f23d64f5240>, <__main__.Carta object at 0x7f23d64f5278>, <__main__.Carta object at 0x7f23d64f52b0>, <__main__.Carta object at 0x7f23d64f52e8>, <__main__.Carta object at 0x7f23d64f5320>, <__main__.Carta object at 0x7f23d64f5358>, <__main__.Carta object at 0x7f23d64f5390>, <__main__.Carta object at 0x7f23d64f53c8>, <__main__.Carta object at 0x7f23d64f5400>, <__main__.Carta object at 0x7f23d64f5438>, <__main__.Carta object at 0x7f23d64f5470>, <__main__.Carta object at 0x7f23d64f54a8>, <__main__.Carta object at 0x7f23d64f54e0>, <__main__.Carta object at 0x7f23d64f5518>, <__main__.Carta object at 0x7f23d64f5550>, <__main__.Carta object at 0x7f23d64f5588>, <__main__.Carta object at 0x7f23d64f55c0>, <__main__.Carta object at 0x7f23d64f55f8>, <__main__.Carta object at 0x7f23d64f5630>, <__main__.Carta object at 0x7f23d64f5668>, <__main__.Carta object at 0x7f23d64f56a0>, <__main__.Carta object at 0x7f23d64f56d8>, <__main__.Carta object at 0x7f23d64f5710>, <__main__.Carta object at 0x7f23d64f5748>, <__main__.Carta object at 0x7f23d64f5780>, <__main__.Carta object at 0x7f23d64f57b8>, <__main__.Carta object at 0x7f23d64f57f0>, <__main__.Carta object at 0x7f23d64f5828>, <__main__.Carta object at 0x7f23d64f5860>, <__main__.Carta object at 0x7f23d64f5898>]\n",
            "carte ('carte=', [<__main__.Carta object at 0x7f23d655fcc0>, <__main__.Carta object at 0x7f23d655fd30>, <__main__.Carta object at 0x7f23d655fda0>, <__main__.Carta object at 0x7f23d655fdd8>, <__main__.Carta object at 0x7f23d655fe10>, <__main__.Carta object at 0x7f23d655fe48>, <__main__.Carta object at 0x7f23d655fe80>, <__main__.Carta object at 0x7f23d655feb8>, <__main__.Carta object at 0x7f23d655fef0>, <__main__.Carta object at 0x7f23d655ff28>, <__main__.Carta object at 0x7f23d655ff60>, <__main__.Carta object at 0x7f23d655ff98>, <__main__.Carta object at 0x7f23d655ffd0>, <__main__.Carta object at 0x7f23d64f5048>, <__main__.Carta object at 0x7f23d64f5080>, <__main__.Carta object at 0x7f23d64f50b8>, <__main__.Carta object at 0x7f23d64f50f0>, <__main__.Carta object at 0x7f23d64f5128>, <__main__.Carta object at 0x7f23d64f5160>, <__main__.Carta object at 0x7f23d64f5198>, <__main__.Carta object at 0x7f23d64f51d0>, <__main__.Carta object at 0x7f23d64f5208>, <__main__.Carta object at 0x7f23d64f5240>, <__main__.Carta object at 0x7f23d64f5278>, <__main__.Carta object at 0x7f23d64f52b0>, <__main__.Carta object at 0x7f23d64f52e8>, <__main__.Carta object at 0x7f23d64f5320>, <__main__.Carta object at 0x7f23d64f5358>, <__main__.Carta object at 0x7f23d64f5390>, <__main__.Carta object at 0x7f23d64f53c8>, <__main__.Carta object at 0x7f23d64f5400>, <__main__.Carta object at 0x7f23d64f5438>, <__main__.Carta object at 0x7f23d64f5470>, <__main__.Carta object at 0x7f23d64f54a8>, <__main__.Carta object at 0x7f23d64f54e0>, <__main__.Carta object at 0x7f23d64f5518>, <__main__.Carta object at 0x7f23d64f5550>, <__main__.Carta object at 0x7f23d64f5588>, <__main__.Carta object at 0x7f23d64f55c0>, <__main__.Carta object at 0x7f23d64f55f8>, <__main__.Carta object at 0x7f23d64f5630>, <__main__.Carta object at 0x7f23d64f5668>, <__main__.Carta object at 0x7f23d64f56a0>, <__main__.Carta object at 0x7f23d64f56d8>, <__main__.Carta object at 0x7f23d64f5710>, <__main__.Carta object at 0x7f23d64f5748>, <__main__.Carta object at 0x7f23d64f5780>, <__main__.Carta object at 0x7f23d64f57b8>, <__main__.Carta object at 0x7f23d64f57f0>, <__main__.Carta object at 0x7f23d64f5828>, <__main__.Carta object at 0x7f23d64f5860>, <__main__.Carta object at 0x7f23d64f5898>])\n"
          ],
          "name": "stdout"
        }
      ]
    }
  ]
}