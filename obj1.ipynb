lass Carta:
  def __init__(self, s, v):
    self.seme = s
    self.valore = v
    return 

class Mazzo:
  def __init__(self):
    self.carte=[]
    
    for seme in ("quadri","cuori","picche","fiori"):
      for valore in range (1,14):
        #self.carta=(seme,valore)
        self.carta=(Carta(seme,valore))
        self.carte.append(self.carta)
        #self.carte.append("ccc")
       
mazzo1=Mazzo()
print(mazzo1.carte)
