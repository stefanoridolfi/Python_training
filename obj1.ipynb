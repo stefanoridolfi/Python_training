{
  "nbformat": 4,
  "nbformat_minor": 0,
  "metadata": {
    "colab": {
      "name": "Untitled27.ipynb",
      "provenance": [],
      "authorship_tag": "ABX9TyNtb4wEpzg8MBx+CPtiGy7y",
      "include_colab_link": true
    },
    "kernelspec": {
      "name": "python3",
      "display_name": "Python 3"
    }
  },
  "cells": [
    {
      "cell_type": "markdown",
      "metadata": {
        "id": "view-in-github",
        "colab_type": "text"
      },
      "source": [
        "<a href=\"https://colab.research.google.com/github/stefanoridolfi/Python_training/blob/master/obj1.ipynb\" target=\"_parent\"><img src=\"https://colab.research.google.com/assets/colab-badge.svg\" alt=\"Open In Colab\"/></a>"
      ]
    },
    {
      "cell_type": "code",
      "metadata": {
        "id": "BkCo-a4IS2nU",
        "colab_type": "code",
        "colab": {
          "base_uri": "https://localhost:8080/",
          "height": 54
        },
        "outputId": "eea7931e-bea6-47a4-950b-0ebcfb5c4ae4"
      },
      "source": [
        "\n",
        "class Carta:\n",
        "  def __init__(self, s, v):\n",
        "    self.seme = s\n",
        "    self.valore = v\n",
        "    return \n",
        "\n",
        "class Mazzo:\n",
        "  def __init__(self):\n",
        "    self.carte=[]\n",
        "    \n",
        "    for seme in (\"quadri\",\"cuori\",\"picche\",\"fiori\"):\n",
        "      for valore in range (1,14):\n",
        "        #self.carta=(seme,valore)\n",
        "        self.carta=(Carta(seme,valore))\n",
        "        self.carte.append(self.carta)\n",
        "        #self.carte.append(\"ccc\")\n",
        "       \n",
        "mazzo1=Mazzo()\n",
        "print(mazzo1.carte)\n",
        "\n",
        "\n",
        "\n"
      ],
      "execution_count": 62,
      "outputs": [
        {
          "output_type": "stream",
          "text": [
            "[<__main__.Carta object at 0x7f2ccda02cf8>, <__main__.Carta object at 0x7f2ccda02390>, <__main__.Carta object at 0x7f2ccda02c88>, <__main__.Carta object at 0x7f2ccda02c50>, <__main__.Carta object at 0x7f2ccda02908>, <__main__.Carta object at 0x7f2ccda02630>, <__main__.Carta object at 0x7f2ccda02b00>, <__main__.Carta object at 0x7f2ccda022b0>, <__main__.Carta object at 0x7f2ccda02d68>, <__main__.Carta object at 0x7f2ccda023c8>, <__main__.Carta object at 0x7f2ccda02518>, <__main__.Carta object at 0x7f2ccda02e10>, <__main__.Carta object at 0x7f2ccda02da0>, <__main__.Carta object at 0x7f2ccda02f28>, <__main__.Carta object at 0x7f2ccda02550>, <__main__.Carta object at 0x7f2ccda02dd8>, <__main__.Carta object at 0x7f2ccda02668>, <__main__.Carta object at 0x7f2ccda02898>, <__main__.Carta object at 0x7f2ccda025f8>, <__main__.Carta object at 0x7f2ccda02780>, <__main__.Carta object at 0x7f2ccda02a20>, <__main__.Carta object at 0x7f2ccda02ef0>, <__main__.Carta object at 0x7f2ccda02f60>, <__main__.Carta object at 0x7f2ccda02be0>, <__main__.Carta object at 0x7f2ccda02278>, <__main__.Carta object at 0x7f2ce34e9710>, <__main__.Carta object at 0x7f2ccd9eb710>, <__main__.Carta object at 0x7f2ccd9ebf60>, <__main__.Carta object at 0x7f2ccd9ebfd0>, <__main__.Carta object at 0x7f2ccd9eb748>, <__main__.Carta object at 0x7f2ccd9ebef0>, <__main__.Carta object at 0x7f2ccd9eb4e0>, <__main__.Carta object at 0x7f2ccd9eb438>, <__main__.Carta object at 0x7f2ccd9eb9b0>, <__main__.Carta object at 0x7f2ccd9eb5c0>, <__main__.Carta object at 0x7f2ccd9eb550>, <__main__.Carta object at 0x7f2ccd9ebe48>, <__main__.Carta object at 0x7f2ccd9eb1d0>, <__main__.Carta object at 0x7f2ccd9eb908>, <__main__.Carta object at 0x7f2ccd9eb0f0>, <__main__.Carta object at 0x7f2ccd9ebf98>, <__main__.Carta object at 0x7f2ccd9ebbe0>, <__main__.Carta object at 0x7f2ccd9ebcc0>, <__main__.Carta object at 0x7f2ccd9ebdd8>, <__main__.Carta object at 0x7f2ccd9eb9e8>, <__main__.Carta object at 0x7f2ccd9eb668>, <__main__.Carta object at 0x7f2ccd9eb400>, <__main__.Carta object at 0x7f2ccd9eb160>, <__main__.Carta object at 0x7f2ccd9eb518>, <__main__.Carta object at 0x7f2ccdb40a20>, <__main__.Carta object at 0x7f2ccd9bed68>, <__main__.Carta object at 0x7f2ccd9be9b0>]\n"
          ],
          "name": "stdout"
        }
      ]
    }
  ]
}