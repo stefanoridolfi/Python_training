{
  "nbformat": 4,
  "nbformat_minor": 0,
  "metadata": {
    "colab": {
      "name": "Untitled27.ipynb",
      "provenance": [],
      "authorship_tag": "ABX9TyPMyv7WsNPbDsd3JdIW0KUx",
      "include_colab_link": true
    },
    "kernelspec": {
      "name": "python3",
      "display_name": "Python 3"
    }
  },
  "cells": [
    {
      "cell_type": "markdown",
      "metadata": {
        "id": "view-in-github",
        "colab_type": "text"
      },
      "source": [
        "<a href=\"https://colab.research.google.com/github/stefanoridolfi/Python_training/blob/master/mazzo_carte_sito_web.ipynb\" target=\"_parent\"><img src=\"https://colab.research.google.com/assets/colab-badge.svg\" alt=\"Open In Colab\"/></a>"
      ]
    },
    {
      "cell_type": "code",
      "metadata": {
        "id": "BkCo-a4IS2nU",
        "colab_type": "code",
        "outputId": "cb949b9d-5f18-49f7-9bea-723ceff4f284",
        "colab": {
          "base_uri": "https://localhost:8080/",
          "height": 391
        }
      },
      "source": [
        "\n",
        "class Carta:\n",
        "  '''\n",
        "  ListaSemi = [\"Fiori\", \"Quadri\", \"Cuori\", \"Picche\"]\n",
        "  ListaRanghi = [\"impossibile\", \"Asso\", \"2\", \"3\", \"4\", \"5\", \"6\",\\\n",
        "                 \"7\", \"8\", \"9\", \"10\", \"Jack\", \"Regina\", \"Re\"]\n",
        "  '''\n",
        "\n",
        "  ListaSemi = [\"Fiori\", \"Quadri\"]\n",
        "  ListaRanghi = [\"impossibile\", \"Asso\",\"Jack\", \"Regina\", \"Re\"]\n",
        "\n",
        "  def __init__(self, seme, rango):\n",
        "    self.seme = seme\n",
        "    self.rango = rango\n",
        "  \n",
        "  def __str__(self):\n",
        "     return \"Stampo da metodo __str__ di classe Carta: Carta: seme=\" + str(self.ListaSemi[self.seme]) + \"   rango=\"+self.ListaRanghi[self.rango]\n",
        "\n",
        "class Mazzo:\n",
        "  def __init__(self):\n",
        "    self.Carte = []\n",
        "    for Seme in range(2):\n",
        "      for Rango in range(1, 4):\n",
        "        self.Carte.append(Carta(Seme, Rango))\n",
        "    \n",
        "   \n",
        "  def StampaMazzo(self):\n",
        "    for Carta in self.Carte:\n",
        "      print (\"Stampo  carte da metodo StampaMazzo\",Carta)   \n",
        "    \n",
        "\n",
        "  def __str__(self):\n",
        "    t=[]\n",
        "    s = \"\"\n",
        "    for i in range(len(self.Carte)):\n",
        "      s = s + str(self.Carte[i]) + \"\\n\"\n",
        "      t.append(str(self.Carte[i]))\n",
        "      t_string='\\n'.join(t)\n",
        "    return t_string\n",
        "  \n",
        "  def Mescola(self):\n",
        "    import random\n",
        "    random.seed(1)\n",
        "    NumCarte = len(self.Carte)\n",
        "    for i in range(NumCarte):\n",
        "      j = random.randrange(i, NumCarte)\n",
        "      self.Carte[i], self.Carte[j] = self.Carte[j], self.Carte[i]\n",
        "  \n",
        "  def RimuoviCarta(self, Carta):\n",
        "    if Carta in self.Carte:\n",
        "      self.Carte.remove(Carta)\n",
        "      return 1\n",
        "    else:\n",
        "      return 0\n",
        "\n",
        "  def PrimaCarta(self):\n",
        "    return self.Carte.pop()\n",
        "\n",
        "carta1=Carta(1,2)\n",
        "# Stampo usando metodo __str__ della classe Carta\n",
        "#print (carta1,\" \\n\\n\")\n",
        "\n",
        "mazzo1=Mazzo()\n",
        "\n",
        "# Stampo usando il metodo __str__ di classe Mazzo\n",
        "#print(\"Stampo direttamente mazzo1\\n\",mazzo1)\n",
        "# Stampo usando il metodo StampaMazzo\n",
        "mazzo1.StampaMazzo()\n",
        "mazzo1.Mescola()\n",
        "print(\"\\nDopo aver mescolato il mazzo:\\n\")\n",
        "mazzo1.StampaMazzo()\n",
        "for k in range(2):\n",
        "  mazzo1.PrimaCarta()\n",
        "\n",
        "print(\"\\nDopo aver rimosso ultime 2 cart2:\\n\")\n",
        "mazzo1.StampaMazzo()"
      ],
      "execution_count": 161,
      "outputs": [
        {
          "output_type": "stream",
          "text": [
            "Stampo  carte da metodo StampaMazzo Stampo da metodo __str__ di classe Carta: Carta: seme=Fiori   rango=Asso\n",
            "Stampo  carte da metodo StampaMazzo Stampo da metodo __str__ di classe Carta: Carta: seme=Fiori   rango=Jack\n",
            "Stampo  carte da metodo StampaMazzo Stampo da metodo __str__ di classe Carta: Carta: seme=Fiori   rango=Regina\n",
            "Stampo  carte da metodo StampaMazzo Stampo da metodo __str__ di classe Carta: Carta: seme=Quadri   rango=Asso\n",
            "Stampo  carte da metodo StampaMazzo Stampo da metodo __str__ di classe Carta: Carta: seme=Quadri   rango=Jack\n",
            "Stampo  carte da metodo StampaMazzo Stampo da metodo __str__ di classe Carta: Carta: seme=Quadri   rango=Regina\n",
            "\n",
            "Dopo aver mescolato il mazzo:\n",
            "\n",
            "Stampo  carte da metodo StampaMazzo Stampo da metodo __str__ di classe Carta: Carta: seme=Fiori   rango=Jack\n",
            "Stampo  carte da metodo StampaMazzo Stampo da metodo __str__ di classe Carta: Carta: seme=Quadri   rango=Regina\n",
            "Stampo  carte da metodo StampaMazzo Stampo da metodo __str__ di classe Carta: Carta: seme=Fiori   rango=Regina\n",
            "Stampo  carte da metodo StampaMazzo Stampo da metodo __str__ di classe Carta: Carta: seme=Quadri   rango=Jack\n",
            "Stampo  carte da metodo StampaMazzo Stampo da metodo __str__ di classe Carta: Carta: seme=Quadri   rango=Asso\n",
            "Stampo  carte da metodo StampaMazzo Stampo da metodo __str__ di classe Carta: Carta: seme=Fiori   rango=Asso\n",
            "\n",
            "Dopo aver rimosso ultime 2 cart2:\n",
            "\n",
            "Stampo  carte da metodo StampaMazzo Stampo da metodo __str__ di classe Carta: Carta: seme=Fiori   rango=Jack\n",
            "Stampo  carte da metodo StampaMazzo Stampo da metodo __str__ di classe Carta: Carta: seme=Quadri   rango=Regina\n",
            "Stampo  carte da metodo StampaMazzo Stampo da metodo __str__ di classe Carta: Carta: seme=Fiori   rango=Regina\n",
            "Stampo  carte da metodo StampaMazzo Stampo da metodo __str__ di classe Carta: Carta: seme=Quadri   rango=Jack\n"
          ],
          "name": "stdout"
        }
      ]
    }
  ]
}