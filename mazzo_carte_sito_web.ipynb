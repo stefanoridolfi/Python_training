{
  "nbformat": 4,
  "nbformat_minor": 0,
  "metadata": {
    "colab": {
      "name": "Untitled27.ipynb",
      "provenance": [],
      "authorship_tag": "ABX9TyMvRZmDDLPzw9DQxbvhHTTx",
      "include_colab_link": true
    },
    "kernelspec": {
      "name": "python3",
      "display_name": "Python 3"
    }
  },
  "cells": [
    {
      "cell_type": "markdown",
      "metadata": {
        "id": "view-in-github",
        "colab_type": "text"
      },
      "source": [
        "<a href=\"https://colab.research.google.com/github/stefanoridolfi/Python_training/blob/master/mazzo_carte_sito_web.ipynb\" target=\"_parent\"><img src=\"https://colab.research.google.com/assets/colab-badge.svg\" alt=\"Open In Colab\"/></a>"
      ]
    },
    {
      "cell_type": "code",
      "metadata": {
        "id": "BkCo-a4IS2nU",
        "colab_type": "code",
        "outputId": "fb7d30a3-566b-4987-dcc0-722da38c1e9b",
        "colab": {
          "base_uri": "https://localhost:8080/",
          "height": 918
        }
      },
      "source": [
        "\n",
        "class Carta:\n",
        "\n",
        "  ListaSemi = [\"Fiori\", \"Quadri\", \"Cuori\", \"Picche\"]\n",
        "  ListaRanghi = [\"impossibile\", \"Asso\", \"2\", \"3\", \"4\", \"5\", \"6\",\\\n",
        "                 \"7\", \"8\", \"9\", \"10\", \"Jack\", \"Regina\", \"Re\"]\n",
        "\n",
        "  def __init__(self, seme, rango):\n",
        "    self.seme = seme\n",
        "    self.rango = rango\n",
        "  \n",
        "  def __str__(self):\n",
        "     return \"Carta: seme=\" + str(self.ListaSemi[self.seme]) + \"   rango=\"+self.ListaRanghi[self.rango]\n",
        "\n",
        "class Mazzo:\n",
        "  def __init__(self):\n",
        "    self.Carte = []\n",
        "    for Seme in range(4):\n",
        "      for Rango in range(1, 14):\n",
        "        self.Carte.append(Carta(Seme, Rango))\n",
        "    \n",
        "   \n",
        "  def StampaMazzo(self):\n",
        "    for Carta in self.Carte:\n",
        "      print (Carta)   \n",
        "    \n",
        "  def __str__(self):\n",
        "    s = \"\"\n",
        "    for i in range(len(self.Carte)):\n",
        "      s = s + \" \"*i + str(self.Carte[i]) + \"\\n\"\n",
        "    return s\n",
        "\n",
        "\n",
        "carta1=Carta(1,12)\n",
        "print (carta1)\n",
        "mazzo1=Mazzo()\n",
        "#print(mazzo1)\n",
        "mazzo1.StampaMazzo()\n",
        "\n",
        "\n"
      ],
      "execution_count": 78,
      "outputs": [
        {
          "output_type": "stream",
          "text": [
            "Carta: seme=Quadri   rango=Regina\n",
            "Carta: seme=Fiori   rango=Asso\n",
            "Carta: seme=Fiori   rango=2\n",
            "Carta: seme=Fiori   rango=3\n",
            "Carta: seme=Fiori   rango=4\n",
            "Carta: seme=Fiori   rango=5\n",
            "Carta: seme=Fiori   rango=6\n",
            "Carta: seme=Fiori   rango=7\n",
            "Carta: seme=Fiori   rango=8\n",
            "Carta: seme=Fiori   rango=9\n",
            "Carta: seme=Fiori   rango=10\n",
            "Carta: seme=Fiori   rango=Jack\n",
            "Carta: seme=Fiori   rango=Regina\n",
            "Carta: seme=Fiori   rango=Re\n",
            "Carta: seme=Quadri   rango=Asso\n",
            "Carta: seme=Quadri   rango=2\n",
            "Carta: seme=Quadri   rango=3\n",
            "Carta: seme=Quadri   rango=4\n",
            "Carta: seme=Quadri   rango=5\n",
            "Carta: seme=Quadri   rango=6\n",
            "Carta: seme=Quadri   rango=7\n",
            "Carta: seme=Quadri   rango=8\n",
            "Carta: seme=Quadri   rango=9\n",
            "Carta: seme=Quadri   rango=10\n",
            "Carta: seme=Quadri   rango=Jack\n",
            "Carta: seme=Quadri   rango=Regina\n",
            "Carta: seme=Quadri   rango=Re\n",
            "Carta: seme=Cuori   rango=Asso\n",
            "Carta: seme=Cuori   rango=2\n",
            "Carta: seme=Cuori   rango=3\n",
            "Carta: seme=Cuori   rango=4\n",
            "Carta: seme=Cuori   rango=5\n",
            "Carta: seme=Cuori   rango=6\n",
            "Carta: seme=Cuori   rango=7\n",
            "Carta: seme=Cuori   rango=8\n",
            "Carta: seme=Cuori   rango=9\n",
            "Carta: seme=Cuori   rango=10\n",
            "Carta: seme=Cuori   rango=Jack\n",
            "Carta: seme=Cuori   rango=Regina\n",
            "Carta: seme=Cuori   rango=Re\n",
            "Carta: seme=Picche   rango=Asso\n",
            "Carta: seme=Picche   rango=2\n",
            "Carta: seme=Picche   rango=3\n",
            "Carta: seme=Picche   rango=4\n",
            "Carta: seme=Picche   rango=5\n",
            "Carta: seme=Picche   rango=6\n",
            "Carta: seme=Picche   rango=7\n",
            "Carta: seme=Picche   rango=8\n",
            "Carta: seme=Picche   rango=9\n",
            "Carta: seme=Picche   rango=10\n",
            "Carta: seme=Picche   rango=Jack\n",
            "Carta: seme=Picche   rango=Regina\n",
            "Carta: seme=Picche   rango=Re\n"
          ],
          "name": "stdout"
        }
      ]
    }
  ]
}