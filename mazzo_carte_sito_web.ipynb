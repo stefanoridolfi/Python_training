{
  "nbformat": 4,
  "nbformat_minor": 0,
  "metadata": {
    "colab": {
      "name": "Untitled27.ipynb",
      "provenance": [],
      "authorship_tag": "ABX9TyNgmwIczQlklYIhfeFVuoiu",
      "include_colab_link": true
    },
    "kernelspec": {
      "name": "python3",
      "display_name": "Python 3"
    }
  },
  "cells": [
    {
      "cell_type": "markdown",
      "metadata": {
        "id": "view-in-github",
        "colab_type": "text"
      },
      "source": [
        "<a href=\"https://colab.research.google.com/github/stefanoridolfi/Python_training/blob/master/mazzo_carte_sito_web.ipynb\" target=\"_parent\"><img src=\"https://colab.research.google.com/assets/colab-badge.svg\" alt=\"Open In Colab\"/></a>"
      ]
    },
    {
      "cell_type": "code",
      "metadata": {
        "id": "BkCo-a4IS2nU",
        "colab_type": "code",
        "outputId": "f1c3aa7d-54f7-446e-a73c-d751905aae25",
        "colab": {
          "base_uri": "https://localhost:8080/",
          "height": 71
        }
      },
      "source": [
        "\n",
        "class Carta:\n",
        "  def __init__(self, s, v):\n",
        "    self.seme = s\n",
        "    self.valore = v\n",
        "    \n",
        "\n",
        "class Mazzo:\n",
        "  def __init__(self):\n",
        "    self.carte=[]\n",
        "    \n",
        "    for seme in (\"quadri\",\"cuori\",\"picche\",\"fiori\"):\n",
        "      for valore in range (1,14):\n",
        "        self.carta=seme,valore\n",
        "        #self.carta=(Carta(seme,valore))\n",
        "        self.carte.append(self.carta)\n",
        "        \n",
        "  def  stampa(self):\n",
        "    return self.carte\n",
        "    #return print(\"carte=\",self.carte)\n",
        "    #print(\"carte=\",self.carte)  \n",
        "mazzo1=Mazzo()\n",
        "print(mazzo1.carte)\n",
        "print(\"carte:\",mazzo1.stampa()) \n"
      ],
      "execution_count": 0,
      "outputs": [
        {
          "output_type": "stream",
          "text": [
            "[('quadri', 1), ('quadri', 2), ('quadri', 3), ('quadri', 4), ('quadri', 5), ('quadri', 6), ('quadri', 7), ('quadri', 8), ('quadri', 9), ('quadri', 10), ('quadri', 11), ('quadri', 12), ('quadri', 13), ('cuori', 1), ('cuori', 2), ('cuori', 3), ('cuori', 4), ('cuori', 5), ('cuori', 6), ('cuori', 7), ('cuori', 8), ('cuori', 9), ('cuori', 10), ('cuori', 11), ('cuori', 12), ('cuori', 13), ('picche', 1), ('picche', 2), ('picche', 3), ('picche', 4), ('picche', 5), ('picche', 6), ('picche', 7), ('picche', 8), ('picche', 9), ('picche', 10), ('picche', 11), ('picche', 12), ('picche', 13), ('fiori', 1), ('fiori', 2), ('fiori', 3), ('fiori', 4), ('fiori', 5), ('fiori', 6), ('fiori', 7), ('fiori', 8), ('fiori', 9), ('fiori', 10), ('fiori', 11), ('fiori', 12), ('fiori', 13)]\n",
            "carte: [('quadri', 1), ('quadri', 2), ('quadri', 3), ('quadri', 4), ('quadri', 5), ('quadri', 6), ('quadri', 7), ('quadri', 8), ('quadri', 9), ('quadri', 10), ('quadri', 11), ('quadri', 12), ('quadri', 13), ('cuori', 1), ('cuori', 2), ('cuori', 3), ('cuori', 4), ('cuori', 5), ('cuori', 6), ('cuori', 7), ('cuori', 8), ('cuori', 9), ('cuori', 10), ('cuori', 11), ('cuori', 12), ('cuori', 13), ('picche', 1), ('picche', 2), ('picche', 3), ('picche', 4), ('picche', 5), ('picche', 6), ('picche', 7), ('picche', 8), ('picche', 9), ('picche', 10), ('picche', 11), ('picche', 12), ('picche', 13), ('fiori', 1), ('fiori', 2), ('fiori', 3), ('fiori', 4), ('fiori', 5), ('fiori', 6), ('fiori', 7), ('fiori', 8), ('fiori', 9), ('fiori', 10), ('fiori', 11), ('fiori', 12), ('fiori', 13)]\n"
          ],
          "name": "stdout"
        }
      ]
    }
  ]
}