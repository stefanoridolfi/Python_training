{
  "nbformat": 4,
  "nbformat_minor": 0,
  "metadata": {
    "colab": {
      "name": "Untitled13.ipynb",
      "provenance": [],
      "authorship_tag": "ABX9TyOuxPbNXdVh2PpS7pmbVa8r",
      "include_colab_link": true
    },
    "kernelspec": {
      "name": "python3",
      "display_name": "Python 3"
    }
  },
  "cells": [
    {
      "cell_type": "markdown",
      "metadata": {
        "id": "view-in-github",
        "colab_type": "text"
      },
      "source": [
        "<a href=\"https://colab.research.google.com/github/stefanoridolfi/Python_training/blob/master/script_using_module1.ipynb\" target=\"_parent\"><img src=\"https://colab.research.google.com/assets/colab-badge.svg\" alt=\"Open In Colab\"/></a>"
      ]
    },
    {
      "cell_type": "code",
      "metadata": {
        "colab": {
          "base_uri": "https://localhost:8080/"
        },
        "id": "ApDWb-_MTZuQ",
        "outputId": "4ee94a4c-c36d-47cd-d70a-1a8a9dbd46c6"
      },
      "source": [
        "#!pip install requests\r\n",
        "import requests\r\n",
        "url = 'https://raw.githubusercontent.com/stefanoridolfi/Python_training/master/module1.py'\r\n",
        "r = requests.get(url)\r\n",
        "print(r.content)\r\n",
        "with open('ipdns.py', 'w') as f:\r\n",
        "    f.write(r.text)\r\n",
        "import ipdns\r\n",
        "d=ipdns.dns_ip()\r\n",
        "from ipdns import dns_ip as id\r\n",
        "id(\"1.1.1.1\")\r\n",
        "print(\"help(ipdns): \",help(ipdns))\r\n",
        "print(\"dir(ipdns): \",dir(ipdns))\r\n"
      ],
      "execution_count": 37,
      "outputs": [
        {
          "output_type": "stream",
          "text": [
            "b'def dns_ip(dns=\"8.8.8.8\"):\\n  print(f\"DNS IP Address:  {dns}\")\\n'\n",
            "DNS IP Address:  8.8.8.8\n",
            "DNS IP Address:  1.1.1.1\n",
            "Help on module ipdns:\n",
            "\n",
            "NAME\n",
            "    ipdns\n",
            "\n",
            "FUNCTIONS\n",
            "    dns_ip(dns='8.8.8.8')\n",
            "\n",
            "FILE\n",
            "    /content/ipdns.py\n",
            "\n",
            "\n",
            "help(ipdns):  None\n",
            "dir(ipdns):  ['__builtins__', '__cached__', '__doc__', '__file__', '__loader__', '__name__', '__package__', '__spec__', 'dns_ip']\n"
          ],
          "name": "stdout"
        }
      ]
    }
  ]
}