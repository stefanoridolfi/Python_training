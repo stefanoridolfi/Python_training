{
  "nbformat": 4,
  "nbformat_minor": 0,
  "metadata": {
    "colab": {
      "name": "Untitled0.ipynb",
      "provenance": [],
      "authorship_tag": "ABX9TyM5V0VKEcH6TqYao+V77IoR",
      "include_colab_link": true
    },
    "kernelspec": {
      "name": "python3",
      "display_name": "Python 3"
    }
  },
  "cells": [
    {
      "cell_type": "markdown",
      "metadata": {
        "id": "view-in-github",
        "colab_type": "text"
      },
      "source": [
        "<a href=\"https://colab.research.google.com/github/stefanoridolfi/Python_training/blob/master/Classe_tempo.ipynb\" target=\"_parent\"><img src=\"https://colab.research.google.com/assets/colab-badge.svg\" alt=\"Open In Colab\"/></a>"
      ]
    },
    {
      "cell_type": "markdown",
      "metadata": {
        "id": "fQCM0iRyOeu-",
        "colab_type": "text"
      },
      "source": [
        "Python è un linguaggio di programmazione orientato agli oggetti il che significa che fornisce il supporto alla programmazione orientata agli oggetti.\n",
        "\n",
        "Non è facile definire cosa sia la programmazione orientata agli oggetti ma abbiamo già visto alcune delle sue caratteristiche:\n",
        "\n",
        "I programmi sono costituiti da definizioni di oggetti e definizioni di funzioni e la gran parte dell'elaborazione è espressa in termini di operazioni sugli oggetti.\n",
        "Ogni definizione di oggetto corrisponde ad un oggetto o concetto del mondo reale e le funzioni che operano su un oggetto corrispondono a modi reali di interazione tra cose reali.\n",
        "Per esempio la classe Tempo definita nel capitolo 13 corrisponde al modo in cui tendiamo a pensare alle ore del giorno e le funzioni che abbiamo definite corrispondono al genere di operazioni che facciamo con gli orari. Le classi Punto e Rettangolo sono estremamente simili ai concetti matematici corrispondenti.\n",
        "\n",
        "Finora non ci siamo avvantaggiati delle funzionalità di supporto della programmazione orientata agli oggetti fornite da Python. Sia ben chiaro che queste funzionalità non sono indispensabili in quanto forniscono solo una sintassi alternativa per fare qualcosa che possiamo fare in modi più tradizionali, ma in molti casi questa alternativa è più concisa e accurata.\n",
        "\n",
        "Per esempio nel programma Tempo non c'è una chiara connessione tra la definizione della classe e le definizioni di funzioni che l'hanno seguita: un esame superficiale è sufficiente per accorgersi che tutte queste funzioni prendono almeno un oggetto Tempo come parametro.\n",
        "\n",
        "Questa osservazione giustifica la presenza dei metodi. Ne abbiamo già visto qualcuno nel caso dei dizionari, quando abbiamo invocato keys e values. Ogni metodo è associato ad una classe ed è destinato ad essere invocato sulle istanze di quella classe.\n",
        "\n",
        "I metodi sono simili alle funzioni con due differenze:\n",
        "\n",
        "I metodi sono definiti all'interno della definizione di classe per rendere più esplicita la relazione tra la classe ed i metodi corrispondenti.\n",
        "La sintassi per invocare un metodo è diversa da quella usata per chiamare una funzione.\n",
        "Nelle prossime sezioni prenderemo le funzioni scritte nei due capitoli precedenti e le trasformeremo in metodi. Questa trasformazione è puramente meccanica e puoi farla seguendo una serie di semplici passi: se sei a tuo agio nel convertire tra funzione e metodo e viceversa riuscirai anche a scegliere di volta in volta la forma migliore."
      ]
    },
    {
      "cell_type": "code",
      "metadata": {
        "id": "1j2xrwZUOkCY",
        "colab_type": "code",
        "colab": {}
      },
      "source": [
        "class Tempo:\n",
        "  pass\n",
        "\n",
        "def StampaTempo(Orario):\n",
        "  print (str(Orario.Ore) + \":\" + str(Orario.Minuti) + \":\" + str(Orario.Secondi))\n",
        "OraAttuale = Tempo()\n",
        "OraAttuale.Ore = 9\n",
        "OraAttuale.Minuti = 14\n",
        "OraAttuale.Secondi = 30\n",
        "#StampaTempo(OraAttuale)\n",
        "'''\n",
        "class Tempo:\n",
        "  def StampaTempo(Orario):\n",
        "    print str(Orario.Ore) + \":\" +   \\\n",
        "          str(Orario.Minuti) + \":\" +  \\\n",
        "          str(Orario.Secondi)\n",
        "\n",
        "Ora possiamo invocare StampaTempo usando la notazione punto.\n",
        "'''\n",
        "class Tempo:\n",
        "  def StampaTempo(Orario):\n",
        "    print (str(Orario.Ore) + \":\" +   \\\n",
        "          str(Orario.Minuti) + \":\" +  \\\n",
        "          str(Orario.Secondi))\n",
        "OraAttuale = Tempo()\n",
        "OraAttuale.Ore = 9\n",
        "OraAttuale.Minuti = 14\n",
        "OraAttuale.Secondi = 30\n",
        "OraAttuale.StampaTempo()\n"
      ],
      "execution_count": 0,
      "outputs": []
    },
    {
      "cell_type": "markdown",
      "metadata": {
        "id": "fq8gUcD5Ot2w",
        "colab_type": "text"
      },
      "source": [
        "\n",
        "Nel capitolo 13 abbiamo definito una classe chiamata Tempo e scritto una funzione StampaTempo:\n",
        "\n",
        "\n",
        "\n",
        "```\n",
        "# This is formatted as code\n",
        "class Tempo:\n",
        "  pass\n",
        "\n",
        "def StampaTempo(Orario):\n",
        "  print str(Orario.Ore) + \":\" +\n",
        "        str(Orario.Minuti) + \":\" +\n",
        "        str(Orario.Secondi)\n",
        "\n",
        "\n",
        "Per chiamare la funzione abbiamo passato un oggetto Tempo come parametro:\n",
        "\n",
        ">>> OraAttuale = Tempo()\n",
        ">>> OraAttuale.Ore = 9\n",
        ">>> OraAttuale.Minuti = 14\n",
        ">>> OraAttuale.Secondi = 30\n",
        ">>> StampaTempo(OraAttuale)\n",
        "```\n",
        "\n",
        "\n",
        "Per rendere StampaTempo un metodo tutto quello che dobbiamo fare è muovere la definizione della funzione all'interno della definizione della classe. Fai attenzione al cambio di indentazione:\n",
        "\n",
        "class Tempo:\n",
        "  def StampaTempo(Orario):\n",
        "    print str(Orario.Ore) + \":\" +   \\\n",
        "          str(Orario.Minuti) + \":\" +  \\\n",
        "          str(Orario.Secondi)\n",
        "\n",
        "```\n",
        "# This is formatted as code\n",
        ">>> OraAttuale.StampaTempo()\n",
        "```\n",
        "\n",
        "\n",
        "Ora possiamo invocare StampaTempo usando la notazione punto.\n",
        "\n",
        "\n",
        "\n",
        "Come sempre l'oggetto su cui il metodo è invocato appare prima del punto ed il nome del metodo subito dopo.\n",
        "\n",
        "L'oggetto su cui il metodo è invocato è automaticamente assegnato al primo parametro, quindi nel caso di OraAttuale è assegnato a Orario.\n",
        "\n",
        "Per convenzione il primo parametro di un metodo è chiamato self, traducibile in questo caso come \"l'oggetto stesso\".\n",
        "\n",
        "Come nel caso di StampaTempo(OraAttuale), la sintassi di una chiamata di funzione tradizionale suggerisce che la funzione sia l'agente attivo: equivale \n",
        "\n",
        "```\n",
        "# This is formatted as code\n",
        "```\n",
        "\n",
        "pressappoco a dire \"StampaTempo! C'è un oggetto per te da stampare!\"\n",
        "\n",
        "Nella programmazione orientata agli oggetti sono proprio gli oggetti ad essere considerati l'agente attivo: un'invocazione del tipo OraAttuale.StampaTempo() significa \"OraAttuale! Invoca il metodo per stampare il tuo valore!\"\n",
        "\n",
        "Questo cambio di prospettiva non sembra così utile ed effettivamente negli esempi che abbiamo visto finora è così. Comunque lo spostamento della responsabilità dalla funzione all'oggetto rende possibile scrivere funzioni più versatili e rende più immediati il mantenimento ed il riutilizzo del codice.\n",
        "\n"
      ]
    }
  ]
}